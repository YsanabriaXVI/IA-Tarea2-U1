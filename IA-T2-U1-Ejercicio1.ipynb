{
  "cells": [
    {
      "cell_type": "code",
      "source": [
        "import pandas as pd\n",
        "\n",
        "# Cargar los datos de ventas en un DataFrame\n",
        "df_ventas = pd.read_csv('./ventas.csv')\n",
        "\n",
        "\n",
        "ventas_por_categoria = df_ventas.groupby('Producto')['Cantidad'].sum()\n",
        "\n",
        "df_ventas.columns\n",
        "df_ventas['Total_Ventas'] = df_ventas['Cantidad'] * df_ventas['Precio_Unitario']\n",
        "producto_mayor_ventas = df_ventas.loc[df_ventas['Total_Ventas'].idxmax(), ['Producto', 'Total_Ventas']]\n",
        "\n",
        "precio_promedio = df_ventas['Precio_Unitario'].mean()\n",
        "\n",
        "#Mostrar resultados\n",
        "print(\"Cantidad total de productos vendidos por categoría:\")\n",
        "print(ventas_por_categoria)\n",
        "print(\"\\nProducto con el mayor total de ventas:\")\n",
        "print(producto_mayor_ventas)\n",
        "print(\"\\nPrecio promedio de los productos vendidos:\", precio_promedio)"
      ],
      "metadata": {
        "id": "t4rQdiLBhEz8",
        "outputId": "5f1324d7-c7e2-4109-f5bd-372b7eb0f1a4",
        "colab": {
          "base_uri": "https://localhost:8080/"
        }
      },
      "execution_count": 16,
      "outputs": [
        {
          "output_type": "stream",
          "name": "stdout",
          "text": [
            "Cantidad total de productos vendidos por categoría:\n",
            "Producto\n",
            "Auriculares     53\n",
            "Impresora       65\n",
            "Laptop          49\n",
            "Monitor        113\n",
            "Mouse           55\n",
            "Silla Gamer     77\n",
            "Teclado         73\n",
            "Webcam          56\n",
            "Name: Cantidad, dtype: int64\n",
            "\n",
            "Producto con el mayor total de ventas:\n",
            "Producto        Monitor\n",
            "Total_Ventas      16454\n",
            "Name: 1, dtype: object\n",
            "\n",
            "Precio promedio de los productos vendidos: 501.82\n"
          ]
        }
      ]
    }
  ],
  "metadata": {
    "colab": {
      "name": "Welcome To Colab",
      "provenance": []
    },
    "kernelspec": {
      "display_name": "Python 3",
      "name": "python3"
    }
  },
  "nbformat": 4,
  "nbformat_minor": 0
}