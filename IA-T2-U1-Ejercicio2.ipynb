{
  "cells": [
    {
      "cell_type": "code",
      "source": [
        "# Utilice el archivo clima.csv para analizar los datos climáticos:\n",
        "# 1. Cargue el dataset y conviértelo en un DataFrame.\n",
        "# 2. Calcule la temperatura promedio de cada ciudad.\n",
        "# 3. Determine el registro con la temperatura más alta y el más bajo en el dataset.\n",
        "# 4. Identifique qué ciudad tuvo la temperatura más alta y cuál la más baja en todo el dataset.\n",
        "# 5. Encuentre cuántos registros tienen una temperatura mayor a 30°C.\n",
        "# 6. Cuenta cuántos días en total hay registrados por cada ciudad."
      ],
      "metadata": {
        "id": "hLEk-4o6iOzN"
      },
      "execution_count": null,
      "outputs": []
    },
    {
      "cell_type": "code",
      "source": [
        "# Cargar los datos climáticos en un DataFrame\n",
        "import pandas as pd\n",
        "df_clima = pd.read_csv('./clima.csv')\n",
        "\n",
        "# Calcular la temperatura promedio de cada ciudad\n",
        "temperatura_promedio = df_clima.groupby('Ciudad')['Temperatura'].mean()\n",
        "\n",
        "# Determinar el registro con la temperatura más alta y la más baja\n",
        "temperatura_maxima = df_clima.loc[df_clima['Temperatura'].idxmax()]\n",
        "temperatura_minima = df_clima.loc[df_clima['Temperatura'].idxmin()]\n",
        "\n",
        "# Identificar qué ciudad tuvo la temperatura más alta y cuál la más baja\n",
        "ciudad_max = df_clima.loc[df_clima['Temperatura'].idxmax(), 'Ciudad']\n",
        "ciudad_min = df_clima.loc[df_clima['Temperatura'].idxmin(), 'Ciudad']\n",
        "\n",
        "# Contar cuántos registros tienen una temperatura mayor a 30°C\n",
        "registros_mayores_30 = df_clima[df_clima['Temperatura'] > 30].shape[0]\n",
        "\n",
        "# Contar cuántos días hay registrados por cada ciudad\n",
        "dias_por_ciudad = df_clima['Ciudad'].value_counts()\n",
        "\n",
        "# Mostrar resultados\n",
        "print(\"\\nTemperatura promedio por ciudad:\")\n",
        "print(temperatura_promedio)\n",
        "print(\"\\nRegistro con la temperatura más alta:\")\n",
        "print(temperatura_maxima)\n",
        "print(\"\\nRegistro con la temperatura más baja:\")\n",
        "print(temperatura_minima)\n",
        "print(\"\\nCiudad con la temperatura más alta:\", ciudad_max)\n",
        "print(\"Ciudad con la temperatura más baja:\", ciudad_min)\n",
        "print(\"\\nCantidad de registros con temperatura mayor a 30°C:\", registros_mayores_30)\n",
        "print(\"\\nCantidad de días registrados por ciudad:\")\n",
        "print(dias_por_ciudad)\n"
      ],
      "metadata": {
        "id": "XaofVOYTiThZ",
        "outputId": "be77525c-35c3-4682-d911-073e85ac029a",
        "colab": {
          "base_uri": "https://localhost:8080/"
        }
      },
      "execution_count": 17,
      "outputs": [
        {
          "output_type": "stream",
          "name": "stdout",
          "text": [
            "\n",
            "Temperatura promedio por ciudad:\n",
            "Ciudad\n",
            "Bogotá              14.650794\n",
            "Buenos Aires        15.226571\n",
            "Ciudad de México    17.250833\n",
            "Madrid              13.870000\n",
            "Santiago            13.993718\n",
            "Name: Temperatura, dtype: float64\n",
            "\n",
            "Registro con la temperatura más alta:\n",
            "Fecha          2023-10-24\n",
            "Ciudad             Madrid\n",
            "Temperatura         34.62\n",
            "Name: 296, dtype: object\n",
            "\n",
            "Registro con la temperatura más baja:\n",
            "Fecha          2023-04-25\n",
            "Ciudad             Madrid\n",
            "Temperatura          -4.8\n",
            "Name: 114, dtype: object\n",
            "\n",
            "Ciudad con la temperatura más alta: Madrid\n",
            "Ciudad con la temperatura más baja: Madrid\n",
            "\n",
            "Cantidad de registros con temperatura mayor a 30°C: 50\n",
            "\n",
            "Cantidad de días registrados por ciudad:\n",
            "Ciudad\n",
            "Madrid              82\n",
            "Santiago            78\n",
            "Ciudad de México    72\n",
            "Buenos Aires        70\n",
            "Bogotá              63\n",
            "Name: count, dtype: int64\n"
          ]
        }
      ]
    }
  ],
  "metadata": {
    "colab": {
      "name": "Welcome To Colab",
      "provenance": []
    },
    "kernelspec": {
      "display_name": "Python 3",
      "name": "python3"
    }
  },
  "nbformat": 4,
  "nbformat_minor": 0
}