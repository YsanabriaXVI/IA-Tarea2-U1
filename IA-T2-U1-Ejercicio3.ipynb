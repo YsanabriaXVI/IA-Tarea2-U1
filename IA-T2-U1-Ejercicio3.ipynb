{
  "cells": [
    {
      "cell_type": "code",
      "source": [
        "# Ejercicio 3: Estadísticas de Calificaciones\n",
        "# Utilice el archivo calificaciones.csv para analizar el rendimiento de los estudiantes:\n",
        "# 1. Cargue el dataset y muestre las primeras filas.\n",
        "# 2. Calcule el promedio de calificaciones por materia.\n",
        "# 3. Identifique el estudiante con el promedio más alto.\n",
        "# 4. Agrupa las calificaciones por estudiante y calcule el promedio de cada uno.\n",
        "# 5. Identifique cuántos estudiantes tienen un promedio superior a 85.\n",
        "# 6. Encuentre la materia con la mayor cantidad de calificaciones registradas.\n",
        "# 7. Muestre los 5 estudiantes con el promedio más bajo\n",
        "\n",
        "\n",
        "import pandas as pd\n",
        "\n",
        "# Cargar el dataset de calificaciones\n",
        "df_calificaciones = pd.read_csv('./calificaciones.csv')\n",
        "\n",
        "# Mostrar las primeras filas del dataset\n",
        "print(\"Primeras filas del dataset:\")\n",
        "print(df_calificaciones.head())\n",
        "\n",
        "#df_calificaciones.columns\n",
        "\n",
        "#  Calcular el promedio de calificaciones por materia\n",
        "promedio_por_materia = df_calificaciones.groupby('Materia')['Calificación'].mean()\n",
        "print(\"\\nPromedio de calificaciones por materia:\")\n",
        "print(promedio_por_materia)\n",
        "\n",
        "# Agrupar las calificaciones por estudiante y calcular el promedio de cada uno\n",
        "promedio_por_estudiante = df_calificaciones.groupby('Estudiante')['Calificación'].mean()\n",
        "\n",
        "# Identificar el estudiante con el promedio más alto\n",
        "estudiante_mejor_promedio = promedio_por_estudiante.idxmax()\n",
        "promedio_mas_alto = promedio_por_estudiante.max()\n",
        "print(f\"\\nEstudiante con el mejor promedio: {estudiante_mejor_promedio} ({promedio_mas_alto:.2f})\")\n",
        "\n",
        "# Contar cuántos estudiantes tienen un promedio superior a 85\n",
        "estudiantes_superior_85 = (promedio_por_estudiante > 85).sum()\n",
        "print(f\"\\nNúmero de estudiantes con promedio superior a 85: {estudiantes_superior_85}\")\n",
        "\n",
        "#  Encontrar la materia con la mayor cantidad de calificaciones registradas\n",
        "materia_mas_calificaciones = df_calificaciones['Materia'].value_counts().idxmax()\n",
        "print(f\"\\nMateria con la mayor cantidad de calificaciones registradas: {materia_mas_calificaciones}\")\n",
        "\n",
        "# Mostrar los 5 estudiantes con el promedio más bajo\n",
        "peores_5_estudiantes = promedio_por_estudiante.nsmallest(5)\n",
        "print(\"\\nLos 5 estudiantes con el promedio más bajo:\")\n",
        "print(peores_5_estudiantes)"
      ],
      "metadata": {
        "id": "iBXwEj4LjBBq",
        "outputId": "70eb4aee-cabe-42f3-a098-949d3d337457",
        "colab": {
          "base_uri": "https://localhost:8080/"
        }
      },
      "execution_count": 23,
      "outputs": [
        {
          "output_type": "stream",
          "name": "stdout",
          "text": [
            "Primeras filas del dataset:\n",
            "      Estudiante      Materia  Calificación\n",
            "0   Estudiante_7         Arte            99\n",
            "1  Estudiante_51  Matemáticas            55\n",
            "2  Estudiante_72  Matemáticas            58\n",
            "3  Estudiante_42  Matemáticas            82\n",
            "4  Estudiante_64       Inglés            90\n",
            "\n",
            "Promedio de calificaciones por materia:\n",
            "Materia\n",
            "Arte           74.823529\n",
            "Ciencias       73.712766\n",
            "Historia       73.087379\n",
            "Inglés         72.740385\n",
            "Matemáticas    73.659794\n",
            "Name: Calificación, dtype: float64\n",
            "\n",
            "Estudiante con el mejor promedio: Estudiante_84 (96.00)\n",
            "\n",
            "Número de estudiantes con promedio superior a 85: 5\n",
            "\n",
            "Materia con la mayor cantidad de calificaciones registradas: Inglés\n",
            "\n",
            "Los 5 estudiantes con el promedio más bajo:\n",
            "Estudiante\n",
            "Estudiante_79    51.0\n",
            "Estudiante_58    57.0\n",
            "Estudiante_91    58.0\n",
            "Estudiante_50    59.0\n",
            "Estudiante_80    59.0\n",
            "Name: Calificación, dtype: float64\n"
          ]
        }
      ]
    }
  ],
  "metadata": {
    "colab": {
      "name": "Welcome To Colab",
      "provenance": []
    },
    "kernelspec": {
      "display_name": "Python 3",
      "name": "python3"
    }
  },
  "nbformat": 4,
  "nbformat_minor": 0
}